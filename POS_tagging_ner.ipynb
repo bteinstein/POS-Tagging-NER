{
  "nbformat": 4,
  "nbformat_minor": 0,
  "metadata": {
    "colab": {
      "name": "POS tagging.ipynb",
      "version": "0.3.2",
      "provenance": [],
      "include_colab_link": true
    },
    "kernelspec": {
      "name": "python3",
      "display_name": "Python 3"
    }
  },
  "cells": [
    {
      "cell_type": "markdown",
      "metadata": {
        "id": "view-in-github",
        "colab_type": "text"
      },
      "source": [
        "<a href=\"https://colab.research.google.com/github/bteinstein/POS-Tagging-NER/blob/master/POS_tagging_ner.ipynb\" target=\"_parent\"><img src=\"https://colab.research.google.com/assets/colab-badge.svg\" alt=\"Open In Colab\"/></a>"
      ]
    },
    {
      "cell_type": "code",
      "metadata": {
        "id": "Jm6XNRBwqD8L",
        "colab_type": "code",
        "colab": {}
      },
      "source": [
        ""
      ],
      "execution_count": 0,
      "outputs": []
    },
    {
      "cell_type": "markdown",
      "metadata": {
        "id": "hDL_zHwrrQu6",
        "colab_type": "text"
      },
      "source": [
        "## Attempt 1 - Using NLTK POS-tagging"
      ]
    },
    {
      "cell_type": "code",
      "metadata": {
        "id": "k4uiienpo06l",
        "colab_type": "code",
        "colab": {}
      },
      "source": [
        "import nltk\n",
        "from nltk.tokenize import word_tokenize\n",
        "from nltk.tag import pos_tag"
      ],
      "execution_count": 0,
      "outputs": []
    },
    {
      "cell_type": "code",
      "metadata": {
        "id": "gwZgbEWfvXxX",
        "colab_type": "code",
        "outputId": "c30fb6c4-b6b0-4465-f66f-60dd9b44f3fb",
        "colab": {
          "base_uri": "https://localhost:8080/",
          "height": 237
        }
      },
      "source": [
        "nltk.download('punkt')\n",
        "nltk.download('averaged_perceptron_tagger')\n",
        "\n",
        "#for ne_chunk for NER\n",
        "nltk.download('maxent_ne_chunker')\n",
        "nltk.download('words')"
      ],
      "execution_count": 0,
      "outputs": [
        {
          "output_type": "stream",
          "text": [
            "[nltk_data] Downloading package punkt to /root/nltk_data...\n",
            "[nltk_data]   Package punkt is already up-to-date!\n",
            "[nltk_data] Downloading package averaged_perceptron_tagger to\n",
            "[nltk_data]     /root/nltk_data...\n",
            "[nltk_data]   Package averaged_perceptron_tagger is already up-to-\n",
            "[nltk_data]       date!\n",
            "[nltk_data] Downloading package maxent_ne_chunker to\n",
            "[nltk_data]     /root/nltk_data...\n",
            "[nltk_data]   Package maxent_ne_chunker is already up-to-date!\n",
            "[nltk_data] Downloading package words to /root/nltk_data...\n",
            "[nltk_data]   Unzipping corpora/words.zip.\n"
          ],
          "name": "stdout"
        },
        {
          "output_type": "execute_result",
          "data": {
            "text/plain": [
              "True"
            ]
          },
          "metadata": {
            "tags": []
          },
          "execution_count": 32
        }
      ]
    },
    {
      "cell_type": "markdown",
      "metadata": {
        "id": "cnAib43muPDX",
        "colab_type": "text"
      },
      "source": [
        "**Function Tokenize part of speech tagging**"
      ]
    },
    {
      "cell_type": "code",
      "metadata": {
        "id": "Qamh5pjRt3Z5",
        "colab_type": "code",
        "colab": {}
      },
      "source": [
        "def preprocess(sent):\n",
        "    sent = nltk.word_tokenize(sent)\n",
        "    sent = nltk.pos_tag(sent)\n",
        "    return sent"
      ],
      "execution_count": 0,
      "outputs": []
    },
    {
      "cell_type": "code",
      "metadata": {
        "id": "qkriNEttuXGn",
        "colab_type": "code",
        "colab": {}
      },
      "source": [
        "samp_text = 'European authorities fined Google a record $5.1 billion on Wednesday for abusing its power in the mobile phone market and ordered the company to alter its practices'"
      ],
      "execution_count": 0,
      "outputs": []
    },
    {
      "cell_type": "markdown",
      "metadata": {
        "id": "gY0wopsTu96Y",
        "colab_type": "text"
      },
      "source": [
        "#### Text : **European authorities fined Google a record $5.1 billion on** **Wednesday for abusing its power**\n",
        "**in the mobile phone market and ordered the company to alter its practices**"
      ]
    },
    {
      "cell_type": "code",
      "metadata": {
        "id": "CWl01ZOVu7CF",
        "colab_type": "code",
        "outputId": "995c34b5-4569-4590-e1eb-6c9a69b4ca83",
        "colab": {
          "base_uri": "https://localhost:8080/",
          "height": 531
        }
      },
      "source": [
        "prs_text = preprocess(samp_text)\n",
        "prs_text"
      ],
      "execution_count": 0,
      "outputs": [
        {
          "output_type": "execute_result",
          "data": {
            "text/plain": [
              "[('European', 'JJ'),\n",
              " ('authorities', 'NNS'),\n",
              " ('fined', 'VBD'),\n",
              " ('Google', 'NNP'),\n",
              " ('a', 'DT'),\n",
              " ('record', 'NN'),\n",
              " ('$', '$'),\n",
              " ('5.1', 'CD'),\n",
              " ('billion', 'CD'),\n",
              " ('on', 'IN'),\n",
              " ('Wednesday', 'NNP'),\n",
              " ('for', 'IN'),\n",
              " ('abusing', 'VBG'),\n",
              " ('its', 'PRP$'),\n",
              " ('power', 'NN'),\n",
              " ('in', 'IN'),\n",
              " ('the', 'DT'),\n",
              " ('mobile', 'JJ'),\n",
              " ('phone', 'NN'),\n",
              " ('market', 'NN'),\n",
              " ('and', 'CC'),\n",
              " ('ordered', 'VBD'),\n",
              " ('the', 'DT'),\n",
              " ('company', 'NN'),\n",
              " ('to', 'TO'),\n",
              " ('alter', 'VB'),\n",
              " ('its', 'PRP$'),\n",
              " ('practices', 'NNS')]"
            ]
          },
          "metadata": {
            "tags": []
          },
          "execution_count": 24
        }
      ]
    },
    {
      "cell_type": "markdown",
      "metadata": {
        "id": "lHSXAsDOxDOK",
        "colab_type": "text"
      },
      "source": [
        "### Forming Noun Phrase Chunks \n",
        "  Rule - **(optional) Determiner DT, follow by (any number of) Adjective JJ then a Noun NN**"
      ]
    },
    {
      "cell_type": "code",
      "metadata": {
        "id": "luOIrKRSvOEy",
        "colab_type": "code",
        "colab": {}
      },
      "source": [
        "pattn = 'NP: {<DT>?<JJ>*<NN>}' "
      ],
      "execution_count": 0,
      "outputs": []
    },
    {
      "cell_type": "code",
      "metadata": {
        "id": "ZK96L8HcyCcd",
        "colab_type": "code",
        "colab": {}
      },
      "source": [
        "rp = nltk.RegexpParser(pattn)\n",
        "npprs = rp.parse(prs_text)\n",
        "print(npprs)"
      ],
      "execution_count": 0,
      "outputs": []
    },
    {
      "cell_type": "markdown",
      "metadata": {
        "id": "BQvcdFg6w2Kq",
        "colab_type": "text"
      },
      "source": [
        "### Using nltk.ne_chunk for NER"
      ]
    },
    {
      "cell_type": "code",
      "metadata": {
        "id": "CRcsLa9d005V",
        "colab_type": "code",
        "outputId": "88606cb1-4fb2-4a6e-895f-d0958eed1089",
        "colab": {
          "base_uri": "https://localhost:8080/",
          "height": 550
        }
      },
      "source": [
        "ne_tree = nltk.ne_chunk(prs_text)\n",
        "print(ne_tree)"
      ],
      "execution_count": 0,
      "outputs": [
        {
          "output_type": "stream",
          "text": [
            "(S\n",
            "  (GPE European/JJ)\n",
            "  authorities/NNS\n",
            "  fined/VBD\n",
            "  (PERSON Google/NNP)\n",
            "  a/DT\n",
            "  record/NN\n",
            "  $/$\n",
            "  5.1/CD\n",
            "  billion/CD\n",
            "  on/IN\n",
            "  Wednesday/NNP\n",
            "  for/IN\n",
            "  abusing/VBG\n",
            "  its/PRP$\n",
            "  power/NN\n",
            "  in/IN\n",
            "  the/DT\n",
            "  mobile/JJ\n",
            "  phone/NN\n",
            "  market/NN\n",
            "  and/CC\n",
            "  ordered/VBD\n",
            "  the/DT\n",
            "  company/NN\n",
            "  to/TO\n",
            "  alter/VB\n",
            "  its/PRP$\n",
            "  practices/NNS)\n"
          ],
          "name": "stdout"
        }
      ]
    },
    {
      "cell_type": "markdown",
      "metadata": {
        "id": "sw_Rf10F1pqC",
        "colab_type": "text"
      },
      "source": [
        "### Note: Not really a good job yet, but definately a good starting point"
      ]
    },
    {
      "cell_type": "markdown",
      "metadata": {
        "id": "W_SNHJwp2VaZ",
        "colab_type": "text"
      },
      "source": [
        "## Attemp 2 - Spicy for NER"
      ]
    },
    {
      "cell_type": "code",
      "metadata": {
        "id": "CEulUqRm1G4s",
        "colab_type": "code",
        "colab": {}
      },
      "source": [
        "import spacy\n",
        "from spacy import displacy\n",
        "from collections import Counter\n",
        "import en_core_web_sm\n",
        "nlp_model = en_core_web_sm.load()\n",
        "\n",
        "\n",
        "from pprint import pprint"
      ],
      "execution_count": 0,
      "outputs": []
    },
    {
      "cell_type": "code",
      "metadata": {
        "id": "i3PveK_R2SUP",
        "colab_type": "code",
        "outputId": "8ecfc00b-d6af-4393-b84f-ce3761cf2cbd",
        "colab": {
          "base_uri": "https://localhost:8080/",
          "height": 90
        }
      },
      "source": [
        "prs_doc = nlp_model(samp_text)\n",
        "pprint([(p.label_, p.text) for p in prs_doc.ents])"
      ],
      "execution_count": 0,
      "outputs": [
        {
          "output_type": "stream",
          "text": [
            "[('NORP', 'European'),\n",
            " ('ORG', 'Google'),\n",
            " ('MONEY', '$5.1 billion'),\n",
            " ('DATE', 'Wednesday')]\n"
          ],
          "name": "stdout"
        }
      ]
    },
    {
      "cell_type": "code",
      "metadata": {
        "id": "8r484aDY3Fh-",
        "colab_type": "code",
        "colab": {}
      },
      "source": [
        ""
      ],
      "execution_count": 0,
      "outputs": []
    },
    {
      "cell_type": "code",
      "metadata": {
        "id": "JtXPOAZp3osk",
        "colab_type": "code",
        "colab": {}
      },
      "source": [
        ""
      ],
      "execution_count": 0,
      "outputs": []
    },
    {
      "cell_type": "code",
      "metadata": {
        "id": "r6-NwNrq4H0Q",
        "colab_type": "code",
        "colab": {}
      },
      "source": [
        ""
      ],
      "execution_count": 0,
      "outputs": []
    }
  ]
}