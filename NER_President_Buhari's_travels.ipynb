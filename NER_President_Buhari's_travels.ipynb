{
  "nbformat": 4,
  "nbformat_minor": 0,
  "metadata": {
    "colab": {
      "name": "NER - President Buhari's travels.ipynb",
      "version": "0.3.2",
      "provenance": [],
      "collapsed_sections": [],
      "include_colab_link": true
    },
    "kernelspec": {
      "name": "python3",
      "display_name": "Python 3"
    }
  },
  "cells": [
    {
      "cell_type": "markdown",
      "metadata": {
        "id": "view-in-github",
        "colab_type": "text"
      },
      "source": [
        "<a href=\"https://colab.research.google.com/github/bteinstein/POS-Tagging-NER/blob/master/NER_President_Buhari's_travels.ipynb\" target=\"_parent\"><img src=\"https://colab.research.google.com/assets/colab-badge.svg\" alt=\"Open In Colab\"/></a>"
      ]
    },
    {
      "cell_type": "code",
      "metadata": {
        "id": "K5IHlelmLv7-",
        "colab_type": "code",
        "colab": {}
      },
      "source": [
        "from bs4 import BeautifulSoup\n",
        "import requests\n",
        "import re"
      ],
      "execution_count": 0,
      "outputs": []
    },
    {
      "cell_type": "code",
      "metadata": {
        "id": "tuCLTPFdL5Wh",
        "colab_type": "code",
        "colab": {}
      },
      "source": [
        "import spacy\n",
        "from spacy import displacy\n",
        "from collections import Counter\n",
        "import en_core_web_sm\n",
        "nlp_model = en_core_web_sm.load()\n",
        "\n",
        "\n",
        "from pprint import pprint"
      ],
      "execution_count": 0,
      "outputs": []
    },
    {
      "cell_type": "code",
      "metadata": {
        "id": "TKfzVbCGMADV",
        "colab_type": "code",
        "colab": {}
      },
      "source": [
        "def url_to_string(url):\n",
        "    res = requests.get(url)\n",
        "    html = res.text\n",
        "    soup = BeautifulSoup(html, 'html5lib')\n",
        "    for script in soup([\"script\", \"style\", 'aside']):\n",
        "        script.extract()\n",
        "    return soup.get_text()#[re.split(r'\\n', soup.get_text()) ]\n",
        "    #return \" \".join(re.split(r'[\\n\\t]+', soup.get_text()))"
      ],
      "execution_count": 0,
      "outputs": []
    },
    {
      "cell_type": "code",
      "metadata": {
        "id": "5vIHWdBxMN1H",
        "colab_type": "code",
        "colab": {}
      },
      "source": [
        "news_url = 'https://punchng.com/buhari-spends-one-year-39-days-abroad-in-three-years-10-months/'"
      ],
      "execution_count": 0,
      "outputs": []
    },
    {
      "cell_type": "code",
      "metadata": {
        "id": "LHdm6FLGMZFT",
        "colab_type": "code",
        "colab": {}
      },
      "source": [
        "news_body = url_to_string(news_url)"
      ],
      "execution_count": 0,
      "outputs": []
    },
    {
      "cell_type": "code",
      "metadata": {
        "id": "LUjbPdHYMjP2",
        "colab_type": "code",
        "colab": {
          "base_uri": "https://localhost:8080/",
          "height": 55
        },
        "outputId": "bb3a4754-6469-4ad9-ef1c-5abe8ada642e"
      },
      "source": [
        "news_body"
      ],
      "execution_count": 20,
      "outputs": [
        {
          "output_type": "execute_result",
          "data": {
            "text/plain": [
              "'\\n\\n\\n\\n\\n\\n\\nBuhari spends one year, 39 days abroad in three years, 10 months – Punch Newspapers\\n\\n\\n\\n\\n\\n\\n\\n\\n\\n\\n\\n\\n\\n\\n\\n\\n\\n\\n\\n\\n \\n\\n\\n\\n\\n\\n\\n\\n\\n\\n\\n\\n\\n\\n\\n\\n\\n\\n\\n\\n\\n\\n\\n\\n\\n\\n\\n\\n\\n\\n\\n\\n\\n\\n\\n\\n\\n\\n\\n\\n\\n\\n\\n\\n\\n\\n\\n\\n\\n\\n\\n\\n\\n\\n\\n\\n\\n\\n\\n\\n\\n\\n\\n\\n\\n\\n\\n\\n\\n\\n\\n\\nDFP\\n\\n\\nSkip to content\\n\\n\\n\\n\\n\\n \\n\\n\\n\\n \\n\\n\\n \\n\\n\\n \\n\\n\\n\\n \\n\\n\\n\\n\\n\\n\\n\\n\\n\\n\\nHome\\nNews\\nSports\\nMetro Plus\\nPolitics\\nBusiness\\nEntertainment\\nEditorial\\nColumnists\\n\\n \\n\\nSections\\n\\n\\n\\nSearch for:\\n\\n\\n\\n \\n\\n\\n\\n\\n\\n\\n\\n\\n\\n\\n \\n\\n\\n\\n \\n\\n\\n\\n\\n\\n \\n\\n\\n\\n \\n\\n\\n\\n\\n\\n\\n\\n\\n\\n\\n\\n\\n\\n\\n\\nPolitics \\n\\n\\nBuhari spends one year, 39 days abroad in three years, 10 months\\n\\n Published April 20, 2019April 20, 2019 \\n\\n\\nKindly Share This Story\\n\\n\\n\\n\\n\\n\\n\\n\\n\\n \\n\\n\\n\\n\\n\\n\\n\\n\\n\\n\\n\\n\\n\\n\\n \\n\\n\\n\\n\\n\\n\\n\\n\\n\\n\\n\\n\\n\\n\\n\\n\\n\\n\\n\\n\\n\\nJohn Alechenu, Eniola Akinkuotu and Tobi Aworinde, Abuja\\nWith few weeks to the end of his first term in office, President Muhammadu Buhari has spent a total of 404 days (a year and 39 days) travelling to 33 countries on four continents in about four years of his first term in office, Saturday PUNCH can report.\\nThe country he visited the most was the United Kingdom where he spent 217 days mostly on health grounds and meetings of Commonwealth Heads of State and Government.\\n\\n\\n\\n\\nHis second most visited country was the United States where he spent a combined 41 non-consecutive days.\\nHe met ex-President Barack Obama and President Donald Trump at different times and also attended the 70th, 71st, 72nd and 73rd sessions of the United Nations General Assembly.\\nFrance was the third most visited country with Buhari spending 14 non-consecutive days there. China came fourth with 13 days and Jordan occupied the fifth position with eight days.\\nOther countries the President visited during the over 46-month period under review included the United Arab Emirates (seven); Morocco (seven); Germany (seven); South Africa (seven); Saudi Arabia (six); India (five); Chad (five); Kenya (five); Turkey (five); Poland (five); and Malta (five).\\nOthers were Senegal (four); Ethiopia (four); Mauritania (four); Netherlands (four); Togo (four); Republic of Benin (four); Côte d’Ivoire (three); Iran (three); Equatorial Guinea (three); Cameroon (two); Ghana (two); Niger (two); Gambia (two); Egypt (two); Qatar (two); Mali (one); and Sudan (one).\\nIncidentally, the President did not visit any country in South America.\\nApart from medical reasons, the President was out of the country to seek security assistance, improve on the nation’s economy and trade, and seek support for his fight against corruption.\\nFindings showed that while the President was able to build an alliance with neighbouring countries to curb the activities of Boko Haram, his travels did not translate much to Foreign Direct Investment except in 2016.\\n\\n\\n\\n\\nNigeria attracted $3.4bn in FDI in 2015 and saw a huge boost in 2016 with the nation getting $5.1bn.\\nHowever, in 2017, the nation’s FDI took a sharp decline, dropping to $3.5bn, and to $2.2bn in 2018. Ghana surpassed Nigeria in 2018 as it drew $3.3bn.\\nBreakdown of Buhari’s travels in 2015\\n\\nShortly after his inauguration, Buhari on June 3 and 4, 2015 travelled to the Republic of Niger and Chad Republic for consultations on how to tackle terrorism in the country and the region.\\nOn June 7, 2015, he travelled to Germany to attend the G-7 summit and returned on June 9. He proceeded to South Africa on June 13, 2015 for the African Union Summit in continuation of talks on anti-terrorism fight and returned on June 16.\\nOn July 19, 2015, the President embarked on a four-day official visit to the United States and after he returned on July 23, he proceeded to Cameroon for a two-day visit on July 29 and returned on July 30.\\nREAD ALSO:\\xa0APC’s endorsement of Gbajabiamila as Speaker splits North-Central govs, lawmakers\\nHe went for the Republic of Benin’s Independence Day celebration from August 2 to August 3, 2015.\\nIn September 2015, Buhari embarked on a one-day visit to Ghana on the 7th and a three-day official visit to France on the 14th, returning on the 16th of September.\\nThe President travelled to New York for the 70th United Nations General Assembly on September 24, 2015 and returned on September 29.\\nFrom October 26 to 30, 2015, he travelled to New Delhi in India for the Indian-African Forum and on his way back, he made a technical stopover at Khartoum, Sudan.\\nFrom November 22 to 24, 2015, the President travelled to Tehran, Iran for the third Gas Exporting Countries’ Forum.\\nFrom November 26 to 30, 2015, the President was in Malta to participate in the 2015 Commonwealth Heads of Government Meeting.\\nFrom Malta, he travelled to France on November 30, 2015 for the UN Climate Change Summit and returned on December 1.\\nOn December 3, 2015, he departed for South Africa to attend the China/Africa Summit. He returned on December 5.\\nOn December 10, 2015, Buhari attended the last rites for the late former President Mathieu Kerekou of the Republic of Benin.\\nTravels in 2016\\nBuhari’s first foreign trip in 2016 was to Benin Republic on January 8 where he attended the 11th Summit of the Heads of State and Government of the Niger Basin Authority.\\nFrom January 17 to 20, 2016, he attended the World Future Energy Summit in Abu Dhabi, United Arab Emirates.\\nFrom January 27 to 29, 2016, the President was in Kenya on an official visit. From Kenya, he headed to Addis Ababa, Ethiopia for an African Union meeting and returned to Nigeria on January 30.\\nFrom February 2 to 4, 2016, the President visited France to attend the Special Session of the European Union Parliament.\\nFrom February 5 to 10, 2016, barely eight months into his tenure, he travelled to the UK for his first vacation.\\nOn February 18, 2016, he departed for Egypt to attend the Sharm el-Sheikh ‘Africa 2016’ Business Forum and returned to Abuja the following day.\\nFrom February 22 to 29, 2016, the President visited Saudi Arabia and Qatar. He met with government officials and also visited Medina and Grand Mosque in Mecca, where he performed prayers for the peace and unity of Nigeria.\\nOn March 14, 2016, Buhari visited Equatorial Guinea for two days and had discussions on agreement on Joint Maritime Policing.\\nFrom March 29 to April 3, 2016, he was in Washington DC attending a Nuclear Security Summit. He returned to Abuja on April 4.\\nHe was in China from April 10 to 14, 2016 on a state visit.\\nOn May 10, the President departed for the Anti-Corruption Summit in the UK. He returned to Abuja on May 14 but left for the UK on June 6 for his first medical vacation, following reports that he had an ear infection. He returned on June 19.\\nOn August 8, 2016, Buhari travelled to Chad for the inauguration of President Idris Deby and from August 27 to 28, 2016, he visited Kenya to attend the Tokyo Conference on Africa.\\nOn September 18, 2016, the President travelled to New York, US where he spent five days to attend the 71st UN General Assembly.\\nThe President visited Germany on October 13, 2016 and departed on October 16.\\nHe spent five days from November 14 to 18, 2016 in Morocco where he attended the UN Climate Change Conference.\\nOn November 23, 2016, he travelled to Equatorial Guinea for the 4th Africa/Arab summit.\\nFrom December 5 to 7, 2016, Buhari was in Senegal where he attended the Dakar International Forum on Peace and Security in Africa.\\nOn December 13, 2016, he attended the ECOWAS summit in The Gambia.\\nTrips in 2017\\nThe President’s first foreign trip in 2017 was to Ghana where he attended the inauguration of President Nana Akufo-Addo on January 7.\\n[READ ALSO] Onnoghen: Appeal Court withholds judgment on four appeals\\nOn January 13, he travelled to The Gambia to attend a high-level ECOWAS meeting. He was in Mali the following day for the 27th African France Summit.\\nOn January 19, 2017, the President travelled to the UK on medical leave and returned on March 10 after spending 51 days in the UK.\\nBarely 40 days after, Buhari travelled again to the UK for medical attention on May 8, 2017 and remained there till August 19, 2017, spending 104 days, a record which surpassed that of the late President Umaru Yar’Adua.\\nOn September 17, 2017, he left for the US to attend the 72nd UN General Assembly where he stayed till September 21.\\nHe travelled from the US to the UK for medical purposes and returned to Abuja on September 25, 2017.\\nOn October 18, 2017, he travelled along with members of his family to Turkey on a working visit and returned on October 22.\\nFrom November 28 to 30, 2017, the President was in Côte d’Ivoire where he attended the EU-AU Summit. And from December 1 to 4, 2017, he was in Jordan where he attended a counter-terrorism summit.\\nJourneys in 2018\\nHis first foreign trip in 2018 was to Ethiopia from January 28 to 30 for the African Union summit.\\nBuhari was in the UK for 13 days from April 9 to 21, 2018 for his annual leave.\\nFrom April 28 to May 4, 2018, Buhari journeyed to the US where he met with President Donald Trump at the White House where they discussed security and trade.\\nBuhari spent seven days away from home and went to the UK for a few hours for what his handlers termed a “technical stopover.”\\nFour days after returning to Nigeria, however, Buhari returned to the UK for medical reasons on May 8, 2018, and he returned on May 11.\\nFrom June 10 to 11, 2018, the President was in Morocco where three agreements between Nigeria and the Moroccan government were signed.\\nFrom June 30 to July 3, 2018, Buhari visited Mauritania for the ordinary session of the AU Assembly of Heads of State and Government.\\nOn July 15, Buhari travelled to The Netherlands for the 20th anniversary of the International Criminal Court. He returned on July 18.\\nPresident Buhari travelled to Togo on July 29, 2018 where he participated in the Joint ECOWAS-ECCAS Heads of State and Government Summit on Peace, Security, Stability and Fight against Terrorism and Violent Extremism.\\nThe President again travelled to London on a working leave on August 3, 2018 and returned on the 18th, spending a total of 16 days.\\nThe President handlers\\xa0 said during interviews that “he may just see his doctors briefly during the visit.”\\nOn August 31, 2018, the President travelled to China to attend a summit on China-Africa Cooperation and returned after eight days on September 7, 2018.\\nFrom September 23 to 29, 2018, he was out of the country, this time to the United States to attend the UN General Assembly.\\nHe travelled to France for a peace forum on November 10 where he spent six days. From November 29 to December 1, 2018, Buhari attended a regional summit in Chad.\\nThe President travelled to Poland on a working visit on December 1, 2018 and returned on December 5.\\nOn Christmas Day, he visited Niger Republic to attend the country’s 60th proclamation anniversary.\\nBreak from foreign trips for elections\\nThe President took a break from foreign trips for three months as he toured the 36 states for the 2019 General Elections.\\nBut after the elections had come and gone, he travelled on April 2, 2019 where he attended the inauguration of Senegalese President, Macky Sall.\\nFrom April 4 to 7, 2019, he attended the World Economic Forum in Jordan after which he visited the United Arab Emirates from April 7 to 10 for an investment meeting. Again, he travelled to Chad on April 13, 2019 for a one-day official visit.\\nWrite more editorials\\xa0–Presidency\\nWhen asked to react to the report on the President’s foreign trips, the Presidency asked Punch editors to write more editorials on Buhari’s foreign trips.\\n“Go and tell your editors to write editorials on it (foreign trips). Your editors should write editorials; let them write”, Presidential spokesperson, Mr Garba Shehu, stated in response to an enquiry by Saturday PUNCH.\\nBuhari’s trips, waste of taxpayers’ money –PDP, CUPP\\nThe Peoples Democratic Party and the Coalition of United Political Parties have described Buhari’s foreign travels as waste of taxpayers’ money.\\nThe PDP Deputy National Publicity Secretary, Mr Diran Odeyemi, and the coalition’s national spokesman, Imo Ugochinyere, said this in separate interviews with our correspondents on Friday.\\nUgochinyere asked the President to stay back in the country and tackle Nigeria’s challenges, especially the spate of insecurity across the country.\\nREAD ALSO:\\xa0Lagos High Court refunds woman’s N225,000 after Saturday PUNCH’s report\\nHe said, “The President has spent over one year out of the period he was elected to govern the country outside Nigeria.\\n“After the travels to different parts of the world, poverty level is still rising and killings have now become more rampant in Nigeria.”\\nOdeyemi, in his remarks, said, “A review of several foreign trips of President Buhari indicated a complete waste of the country’s resources as against his promise to block unwarranted foreign expenditures.\\n“He broke his promise to equip hospitals in Nigeria towards putting a stop to foreign trips for medical reasons by spending hundreds of days in London hospital, receiving treatment. Has our hospital been equipped up till now? NO.”\\nWe’re proud to see him travel, attract investments, says APC\\nBut the ruling All Progressives Congress said on Friday that the President’s foreign trips had been beneficial to the country.\\nThe party’s National Publicity Secretary, Lanre Issa-Onilu, said the party was proud to see Buhari go out to attract investments.\\nHe said, “Absolutely, the President’s travels have been beneficial. Beyond the issue that was beyond him which was the issue of health and we thank God he has overcome that, we believe that more than any President before him, all his trips have been targeted at things that are crucial to the development of this country.\\n“We do not think it is about the number of days he had travelled but about the purpose of his travels and the benefits the country is deriving from the trips. I think the President should be commended for not embarking on frivolous trips.”\\nBuhari should prioritise fixing economy, constituting cabinet\\xa0–SERAP, CACOL\\nTwo civil society organisations, the Socio-Economic Right and Accountability Project and the Centre for Anti-Corruption and Open Leadership on Friday asked Buhari to focus early on fixing the economy for the betterment of Nigerians.\\nThe SERAP Executive Director, Adetokunbo Mumuni, said, “Setting the agenda for the President, I want to remind him that the welfare and happiness of the majority of Nigerians is the primary responsibility of the government. The economy is key and the government must do all within its powers to give this a top priority.”\\nAlso, the CACOL Director, Mr Debo Adeniran, noted that President Buhari must hit the ground running, as there were no excuses for any lapses in his second tenure.\\nHe said, “Despite the medical trips, what should not be lacking in the President is the art of governance. The government has to run efficiently even when the President is not in the country, if he has set principles and systems on the ground.”\\nBuhari’s trips have not benefitted Nigeria –SMBLF\\nMeanwhile, the Southern and Middle Belt Leaders Forum has flayed the President’s frequent foreign trips, stating that the nation is yet to\\xa0 benefit from them.\\nThe SMBLF spokesman, Yinka Odumakin, advised the President to stay at home and address the challenges facing the country, adding that Nigeria had declined in all indices of development and growth.\\nOdumakin cited the growing insecurity, noting that bandits were having free rein in various parts of the country, including in Katsina, the President’s home state.\\nHe stated, “Buhari’s foreign trips have mostly been jamborees. Look at the indices: Between 2014 and now, Nigeria has become worse off. We have declined in foreign direct investment.\\n“From the report by Bloomberg, we were five in 2014, now we have dropped to two. Unemployment rate was six per cent in 2014, today it is 23 per cent; Inflation rate was eight in 2014, today it is 11.\\n“Debt to the GDP was 12 in 2014, today, it is 25; Our debt portfolio was 12 per cent, but today, it is 24.6 per cent. So what benefits have these trips accrued to us? We do not know.”\\nPresident’s long stay abroad unhealthy\\xa0–Junaid Mohammed\\nA Second Republic lawmaker, Dr Juniad\\xa0Mohammed, has said it is unhealthy for a President to stay away from his country for the equivalent of 25 per cent of his term.\\nHe said, “The President staying more than 300 days out of the country cannot be good news for any nation in dire need of development; there are sufficient issues in the country to keep the president on his seat.’’\\n\\xa0On his part, elder statesman and Presidential Liaison Officer during the Second Republic, Alhaji Tanko Yakasai, said he had no quarrel with the President travelling to attend to his health because it was a necessity.\\nHe, however, said,\\xa0 “If somebody can rule a country for almost four years promising change and the only change is for the worse, I wonder what will follow. We still don’t have a budget for 2019 and the first quarter is almost gone. Now, they are promising Next Level, I wonder what can be achieved within the next three years since the final year is an election year.”\\nCopyright PUNCH.\\xa0\\xa0\\xa0 \\xa0\\xa0\\xa0\\xa0\\xa0\\xa0\\xa0\\xa0\\xa0\\xa0\\xa0 \\nAll rights reserved. This material, and other digital content on this website, may not be reproduced, published, broadcast, rewritten or redistributed in whole or in part without prior express written permission from PUNCH. \\nContact: the[email\\xa0protected]\\n\\n\\n\\n\\n\\nDOWNLOAD THE PUNCH NEWS APP NOW ON\\n\\n\\n\\n\\n\\n\\nReceive Alerts on: Whatsapp: +2349090060943, Twitter: @MobilePunch, BBM: C003D3DC0 \\nShare your story with us:  SMS: +2349090060943, Whatsapp: +2349090060943, Email: [email\\xa0protected] \\n\\n\\n\\n\\n\\n\\n\\n\\n\\n\\n\\n\\n\\n\\n\\n\\nKindly Share This Story\\n\\n\\n\\n\\n\\n\\n\\n\\n\\n \\n\\n\\n\\n\\n\\n\\n\\n\\n\\n\\n\\nbuhari \\n\\n\\n\\n\\n\\n\\n\\n\\n\\n\\n\\n\\n\\n\\n\\n\\n\\n\\n\\n\\n\\n\\n\\n\\n\\n\\n\\n\\n\\n\\n\\n\\nJust in\\n\\n\\n\\n\\nYou smoke certified weed, Atiku’s aide tells Lai Mohammed for demanding PDP’s apology\\n4:27 pm\\n\\n\\nPHOTOS: Buhari hosts TUC leaders in Aso Villa\\n4:14 pm\\n\\n\\nJUST IN: Three-storey under construction collapses in Enugu\\n4:05 pm\\n\\n\\nSuper Eagles’ coach, Rohr, loses mother\\n3:50 pm\\n\\n\\n7.2% VAT will render new minimum wage useless – NECA\\n3:47 pm\\n\\n\\nRead More\\n\\n\\n\\n\\n \\n\\n\\n \\n\\nClick Here to Subscribe to E-punch\\n\\xa0\\n\\n\\n \\n\\n\\n\\n\\n\\n \\n\\n\\n\\n\\n \\n\\nMPU2 \\n\\n\\n\\n\\n\\n \\n\\n\\n \\n\\nMPU3\\n\\n\\n\\n\\n\\n \\n\\n\\n\\n\\n\\n\\n\\n\\n\\n\\n\\n\\n\\n\\n\\n\\n\\n\\n\\n\\n\\n\\nFamily\\nSpice\\nSpecial Features\\nEducation\\nVox Pop\\nSex & Relationship\\nLetters\\nPunch Games\\nJobs\\n\\n\\nPrivacy Policy\\nAdvertise\\n \\n\\n\\n\\npunchng.com © 1971-2019 The Punch newspaper - Advertise With Us - Contact Us\\n\\n\\n\\n\\n\\n\\n\\n\\n\\n\\n\\n\\n\\n\\n\\n\\n\\n\\n\\n\\n\\n\\n\\n\\n\\n\\n\\n\\n\\n\\n\\n\\n\\n\\n\\n\\n\\n\\n\\n\\n\\n\\n\\n\\n'"
            ]
          },
          "metadata": {
            "tags": []
          },
          "execution_count": 20
        }
      ]
    },
    {
      "cell_type": "code",
      "metadata": {
        "id": "RS0cqDNNMlDR",
        "colab_type": "code",
        "colab": {}
      },
      "source": [
        "# domestic tokenization\n",
        "cln_tkn = [p.strip() for p in re.split('\\n', news_body) if p.strip() != '']"
      ],
      "execution_count": 0,
      "outputs": []
    },
    {
      "cell_type": "code",
      "metadata": {
        "id": "-3Up2XQ3OZD6",
        "colab_type": "code",
        "colab": {}
      },
      "source": [
        "#start_indx = 32\n",
        "trav2015 = cln_tkn[32:44]\n",
        "trav2016 = cln_tkn[46:64]\n",
        "trav2017 = [cln_tkn[65]]+cln_tkn[67:74]\n",
        "trav2018 = cln_tkn[76:91]\n",
        "#trav2019 = \n",
        "#cln_tkn[91:101]"
      ],
      "execution_count": 0,
      "outputs": []
    },
    {
      "cell_type": "code",
      "metadata": {
        "id": "F4pb9FxIUo8j",
        "colab_type": "code",
        "colab": {
          "base_uri": "https://localhost:8080/",
          "height": 55
        },
        "outputId": "c8b7ab6b-15d5-4074-8729-e7f24385798c"
      },
      "source": [
        "trav2015[2]"
      ],
      "execution_count": 79,
      "outputs": [
        {
          "output_type": "execute_result",
          "data": {
            "text/plain": [
              "'On July 19, 2015, the President embarked on a four-day official visit to the United States and after he returned on July 23, he proceeded to Cameroon for a two-day visit on July 29 and returned on July 30.'"
            ]
          },
          "metadata": {
            "tags": []
          },
          "execution_count": 79
        }
      ]
    },
    {
      "cell_type": "code",
      "metadata": {
        "id": "w5oYmYAcTE35",
        "colab_type": "code",
        "colab": {
          "base_uri": "https://localhost:8080/",
          "height": 146
        },
        "outputId": "32c0017a-ae26-4ce8-8c7f-c50272fa4a72"
      },
      "source": [
        "prs_doc = nlp_model(trav2015[2])\n",
        "pprint([(p.label_, p.text) for p in prs_doc.ents])"
      ],
      "execution_count": 80,
      "outputs": [
        {
          "output_type": "stream",
          "text": [
            "[('DATE', 'July 19, 2015'),\n",
            " ('DATE', 'four-day'),\n",
            " ('GPE', 'the United States'),\n",
            " ('DATE', 'July 23'),\n",
            " ('DATE', 'two-day'),\n",
            " ('DATE', 'July 29'),\n",
            " ('DATE', 'July 30')]\n"
          ],
          "name": "stdout"
        }
      ]
    },
    {
      "cell_type": "code",
      "metadata": {
        "id": "Z2vxfaMSUpgn",
        "colab_type": "code",
        "colab": {}
      },
      "source": [
        ""
      ],
      "execution_count": 0,
      "outputs": []
    }
  ]
}